{
 "cells": [
  {
   "cell_type": "markdown",
   "id": "5909eeca",
   "metadata": {},
   "source": [
    "### Import required libraries and functions"
   ]
  },
  {
   "cell_type": "code",
   "execution_count": 1,
   "id": "58f88b18",
   "metadata": {},
   "outputs": [
    {
     "name": "stdout",
     "output_type": "stream",
     "text": [
      "[KeOps] Warning : cuda was detected, but driver API could not be initialized. Switching to cpu only.\n"
     ]
    }
   ],
   "source": [
    "import numpy as np\n",
    "import pandas as pd\n",
    "import torch\n",
    "import matplotlib.pyplot as plt\n",
    "import seaborn as sns\n",
    "\n",
    "from scipy.stats import pearsonr\n",
    "from epik.src.utils import encode_seqs, split_training_test\n",
    "from epik.src.model import EpiK\n",
    "from epik.src.kernel import ConnectednessKernel, ExponentialKernel, JengaKernel"
   ]
  },
  {
   "cell_type": "markdown",
   "id": "bf128f9e",
   "metadata": {},
   "source": [
    "In this tutorial, we will illustrate how to infer sequence-function relationships with our biologically interpretable Gaussian Process models, and guide the user in interpreting the results. \n",
    "\n",
    "With this aim, we will use a previously published dataset, in which the activity of nearly every possible GU/GC 5´splice site sequence was measured in parallel in a single experiment ([Wong et al. 2018](https://pubmed.ncbi.nlm.nih.gov/30174293/)). The measured phenotype `y` is the percent spliced in, this is, the percentage of times a exon 7 is included in the mature mRNA. The assay was performed in different biological replicates, providing a measure of uncertainty of our estimates given by `y_var` as previously analyzed ([Zhou et al. 2022](https://pubmed.ncbi.nlm.nih.gov/36129941/))\n",
    "\n",
    "### Load SMN1 data\n",
    "\n",
    "We start by loading the data from the pre-processed csv file"
   ]
  },
  {
   "cell_type": "code",
   "execution_count": 2,
   "id": "6a86484d",
   "metadata": {},
   "outputs": [
    {
     "data": {
      "text/html": [
       "<div>\n",
       "<style scoped>\n",
       "    .dataframe tbody tr th:only-of-type {\n",
       "        vertical-align: middle;\n",
       "    }\n",
       "\n",
       "    .dataframe tbody tr th {\n",
       "        vertical-align: top;\n",
       "    }\n",
       "\n",
       "    .dataframe thead th {\n",
       "        text-align: right;\n",
       "    }\n",
       "</style>\n",
       "<table border=\"1\" class=\"dataframe\">\n",
       "  <thead>\n",
       "    <tr style=\"text-align: right;\">\n",
       "      <th></th>\n",
       "      <th>y</th>\n",
       "      <th>y_var</th>\n",
       "    </tr>\n",
       "    <tr>\n",
       "      <th>seq</th>\n",
       "      <th></th>\n",
       "      <th></th>\n",
       "    </tr>\n",
       "  </thead>\n",
       "  <tbody>\n",
       "    <tr>\n",
       "      <th>AAACAAAA</th>\n",
       "      <td>0.223881</td>\n",
       "      <td>0.001738</td>\n",
       "    </tr>\n",
       "    <tr>\n",
       "      <th>AAACAAAC</th>\n",
       "      <td>0.514961</td>\n",
       "      <td>0.009195</td>\n",
       "    </tr>\n",
       "    <tr>\n",
       "      <th>AAACAAAG</th>\n",
       "      <td>0.208009</td>\n",
       "      <td>0.001500</td>\n",
       "    </tr>\n",
       "    <tr>\n",
       "      <th>AAACAAAU</th>\n",
       "      <td>0.235378</td>\n",
       "      <td>0.002109</td>\n",
       "    </tr>\n",
       "    <tr>\n",
       "      <th>AAACAACA</th>\n",
       "      <td>0.357162</td>\n",
       "      <td>0.004423</td>\n",
       "    </tr>\n",
       "    <tr>\n",
       "      <th>...</th>\n",
       "      <td>...</td>\n",
       "      <td>...</td>\n",
       "    </tr>\n",
       "    <tr>\n",
       "      <th>UUUUUUGU</th>\n",
       "      <td>0.199017</td>\n",
       "      <td>0.001373</td>\n",
       "    </tr>\n",
       "    <tr>\n",
       "      <th>UUUUUUUA</th>\n",
       "      <td>0.074571</td>\n",
       "      <td>0.000536</td>\n",
       "    </tr>\n",
       "    <tr>\n",
       "      <th>UUUUUUUC</th>\n",
       "      <td>0.193181</td>\n",
       "      <td>0.001294</td>\n",
       "    </tr>\n",
       "    <tr>\n",
       "      <th>UUUUUUUG</th>\n",
       "      <td>0.121894</td>\n",
       "      <td>0.000536</td>\n",
       "    </tr>\n",
       "    <tr>\n",
       "      <th>UUUUUUUU</th>\n",
       "      <td>0.152185</td>\n",
       "      <td>0.000803</td>\n",
       "    </tr>\n",
       "  </tbody>\n",
       "</table>\n",
       "<p>30732 rows × 2 columns</p>\n",
       "</div>"
      ],
      "text/plain": [
       "                 y     y_var\n",
       "seq                         \n",
       "AAACAAAA  0.223881  0.001738\n",
       "AAACAAAC  0.514961  0.009195\n",
       "AAACAAAG  0.208009  0.001500\n",
       "AAACAAAU  0.235378  0.002109\n",
       "AAACAACA  0.357162  0.004423\n",
       "...            ...       ...\n",
       "UUUUUUGU  0.199017  0.001373\n",
       "UUUUUUUA  0.074571  0.000536\n",
       "UUUUUUUC  0.193181  0.001294\n",
       "UUUUUUUG  0.121894  0.000536\n",
       "UUUUUUUU  0.152185  0.000803\n",
       "\n",
       "[30732 rows x 2 columns]"
      ]
     },
     "execution_count": 2,
     "metadata": {},
     "output_type": "execute_result"
    }
   ],
   "source": [
    "data = pd.read_csv('../data/smn1.csv', index_col=0)\n",
    "data"
   ]
  },
  {
   "cell_type": "markdown",
   "id": "a23b05c9",
   "metadata": {},
   "source": [
    "### Prepare data for model fitting\n",
    "\n",
    "EpiK models assume that sequences are provided in a one-hot encoding `X` and provide the utility function `encode_seqs` to obtain them from the raw sequences"
   ]
  },
  {
   "cell_type": "code",
   "execution_count": 3,
   "id": "0e1ae656",
   "metadata": {},
   "outputs": [],
   "source": [
    "X = encode_seqs(data.index.values, alphabet='ACGU')\n",
    "y = data['y'].values\n",
    "y_var = data['y_var'].values"
   ]
  },
  {
   "cell_type": "markdown",
   "id": "dc8f2ae5",
   "metadata": {},
   "source": [
    "We next split the data into training and test subsets with `split_training_test`. To keep this tutorial as simple and fast to run as possible, we will use only a small subset of the dataset for both training and testing, but the code to run it with larger datasets will be exactly the same. "
   ]
  },
  {
   "cell_type": "code",
   "execution_count": 4,
   "id": "6c25c176",
   "metadata": {},
   "outputs": [],
   "source": [
    "splits = split_training_test(X, y, y_var, ptrain=0.05, dtype=torch.float32)\n",
    "train_x, train_y, test_x, test_y, train_y_var = splits\n",
    "\n",
    "# Subsample test data\n",
    "idx = np.random.uniform(size=test_y.shape[0]) < 0.05\n",
    "test_x, test_y = test_x[idx, :], test_y[idx]"
   ]
  },
  {
   "cell_type": "markdown",
   "id": "83dbed32",
   "metadata": {},
   "source": [
    "### Fit Connectedness model regression\n",
    "\n",
    "To define an `EpiK` model, we first need to specify the kernel function that we want to use for Gaussian process regression. In this case, we will use the `ConnectednessKernel`, in which the predictability of mutational effects decreases as we add mutations depending on site-specific decay factors. As the number of parameters is equal to sequence lenght, this kernel provides a good compromise in datasets with relatively few measurements as this one. For every kernel class, we need to specify the configuration of sequence space, consisting of the number of alleles and sequence length. "
   ]
  },
  {
   "cell_type": "code",
   "execution_count": 5,
   "id": "070f6a1c",
   "metadata": {},
   "outputs": [],
   "source": [
    "kernel = ConnectednessKernel(n_alleles=4, seq_length=8)\n",
    "model = EpiK(kernel, track_progress=True, learning_rate=0.1)\n",
    "model.set_data(train_x, train_y, train_y_var)"
   ]
  },
  {
   "cell_type": "markdown",
   "id": "7b9f96ad",
   "metadata": {},
   "source": [
    "After defining the `EpiK` model, we load the training data in the model and optimize the kernel hyperparameters by maximizing the marginal likelihood using the Adam optimizer for a number of predefined iterations. The argument `track_progress=True` allows us to follow the progress of the optimization and track how the loss function decreases"
   ]
  },
  {
   "cell_type": "code",
   "execution_count": 6,
   "id": "3c4d89c9",
   "metadata": {},
   "outputs": [
    {
     "name": "stderr",
     "output_type": "stream",
     "text": [
      "Optimizing hyperparameters: 100%|██████████| 100/100 [00:09<00:00, 10.42it/s, loss=3.946]\n"
     ]
    }
   ],
   "source": [
    "model.fit(n_iter=100)"
   ]
  },
  {
   "cell_type": "markdown",
   "id": "5a5b5ee7",
   "metadata": {},
   "source": [
    "### Make predictions on test sequences\n",
    "\n",
    "Once we have optimized the hyperparameters of the kernel function, we can make predictions by computing the posterior distribution over the sequence-function relationship evaluated at sequences of interest. This allows us to obtain point estimates `test_y_pred` that maximize this posterior probability, but we can additionally compute the posterior variance `test_y_var` quantifying the uncertainty of the predictions. \n",
    "\n",
    "Lets now make predictions in the test sequences that the model has not seen. "
   ]
  },
  {
   "cell_type": "code",
   "execution_count": 7,
   "id": "2771e770",
   "metadata": {},
   "outputs": [
    {
     "data": {
      "text/html": [
       "<div>\n",
       "<style scoped>\n",
       "    .dataframe tbody tr th:only-of-type {\n",
       "        vertical-align: middle;\n",
       "    }\n",
       "\n",
       "    .dataframe tbody tr th {\n",
       "        vertical-align: top;\n",
       "    }\n",
       "\n",
       "    .dataframe thead th {\n",
       "        text-align: right;\n",
       "    }\n",
       "</style>\n",
       "<table border=\"1\" class=\"dataframe\">\n",
       "  <thead>\n",
       "    <tr style=\"text-align: right;\">\n",
       "      <th></th>\n",
       "      <th>coef</th>\n",
       "      <th>stderr</th>\n",
       "      <th>lower_ci</th>\n",
       "      <th>upper_ci</th>\n",
       "    </tr>\n",
       "  </thead>\n",
       "  <tbody>\n",
       "    <tr>\n",
       "      <th>0</th>\n",
       "      <td>-0.755765</td>\n",
       "      <td>12.187967</td>\n",
       "      <td>-25.131699</td>\n",
       "      <td>23.620171</td>\n",
       "    </tr>\n",
       "    <tr>\n",
       "      <th>1</th>\n",
       "      <td>2.206379</td>\n",
       "      <td>12.093196</td>\n",
       "      <td>-21.980013</td>\n",
       "      <td>26.392771</td>\n",
       "    </tr>\n",
       "    <tr>\n",
       "      <th>2</th>\n",
       "      <td>3.547302</td>\n",
       "      <td>12.121452</td>\n",
       "      <td>-20.695602</td>\n",
       "      <td>27.790207</td>\n",
       "    </tr>\n",
       "    <tr>\n",
       "      <th>3</th>\n",
       "      <td>3.951719</td>\n",
       "      <td>12.016528</td>\n",
       "      <td>-20.081337</td>\n",
       "      <td>27.984776</td>\n",
       "    </tr>\n",
       "    <tr>\n",
       "      <th>4</th>\n",
       "      <td>0.299717</td>\n",
       "      <td>11.754993</td>\n",
       "      <td>-23.210270</td>\n",
       "      <td>23.809704</td>\n",
       "    </tr>\n",
       "    <tr>\n",
       "      <th>...</th>\n",
       "      <td>...</td>\n",
       "      <td>...</td>\n",
       "      <td>...</td>\n",
       "      <td>...</td>\n",
       "    </tr>\n",
       "    <tr>\n",
       "      <th>1402</th>\n",
       "      <td>-1.016697</td>\n",
       "      <td>12.159985</td>\n",
       "      <td>-25.336666</td>\n",
       "      <td>23.303272</td>\n",
       "    </tr>\n",
       "    <tr>\n",
       "      <th>1403</th>\n",
       "      <td>-1.012896</td>\n",
       "      <td>11.901393</td>\n",
       "      <td>-24.815681</td>\n",
       "      <td>22.789890</td>\n",
       "    </tr>\n",
       "    <tr>\n",
       "      <th>1404</th>\n",
       "      <td>-0.665035</td>\n",
       "      <td>11.797466</td>\n",
       "      <td>-24.259968</td>\n",
       "      <td>22.929897</td>\n",
       "    </tr>\n",
       "    <tr>\n",
       "      <th>1405</th>\n",
       "      <td>3.951822</td>\n",
       "      <td>13.170959</td>\n",
       "      <td>-22.390095</td>\n",
       "      <td>30.293739</td>\n",
       "    </tr>\n",
       "    <tr>\n",
       "      <th>1406</th>\n",
       "      <td>1.479359</td>\n",
       "      <td>13.017287</td>\n",
       "      <td>-24.555216</td>\n",
       "      <td>27.513933</td>\n",
       "    </tr>\n",
       "  </tbody>\n",
       "</table>\n",
       "<p>1407 rows × 4 columns</p>\n",
       "</div>"
      ],
      "text/plain": [
       "          coef     stderr   lower_ci   upper_ci\n",
       "0    -0.755765  12.187967 -25.131699  23.620171\n",
       "1     2.206379  12.093196 -21.980013  26.392771\n",
       "2     3.547302  12.121452 -20.695602  27.790207\n",
       "3     3.951719  12.016528 -20.081337  27.984776\n",
       "4     0.299717  11.754993 -23.210270  23.809704\n",
       "...        ...        ...        ...        ...\n",
       "1402 -1.016697  12.159985 -25.336666  23.303272\n",
       "1403 -1.012896  11.901393 -24.815681  22.789890\n",
       "1404 -0.665035  11.797466 -24.259968  22.929897\n",
       "1405  3.951822  13.170959 -22.390095  30.293739\n",
       "1406  1.479359  13.017287 -24.555216  27.513933\n",
       "\n",
       "[1407 rows x 4 columns]"
      ]
     },
     "execution_count": 7,
     "metadata": {},
     "output_type": "execute_result"
    }
   ],
   "source": [
    "pred = model.predict(test_x, calc_variance=True)\n",
    "pred"
   ]
  },
  {
   "cell_type": "markdown",
   "id": "83f8a8a9",
   "metadata": {},
   "source": [
    "Once we have the predictions, we can compare them with the measurements for these held-out sequences, for instance, by computing the $R^2$ or the calibration of the uncertainty by calculating the percentage of times the measurement is within the 95% predictive interval"
   ]
  },
  {
   "cell_type": "code",
   "execution_count": 8,
   "id": "ef545c87",
   "metadata": {},
   "outputs": [],
   "source": [
    "r2 = pearsonr(pred['coef'], test_y)[0] ** 2\n",
    "sd = pred['stderr']\n",
    "obs = test_y.numpy()\n",
    "calibration = ((obs > pred['coef'] - 2 * sd) & (obs < pred['coef'] + 2 * sd)).mean()"
   ]
  },
  {
   "cell_type": "code",
   "execution_count": 9,
   "id": "3189342f",
   "metadata": {},
   "outputs": [
    {
     "data": {
      "text/plain": [
       "[Text(0.5, 0, 'Predicted PSI (%)'),\n",
       " (-20.0, 200.0),\n",
       " Text(0, 0.5, 'Measured PSI (%)'),\n",
       " (-20.0, 200.0),\n",
       " None]"
      ]
     },
     "execution_count": 9,
     "metadata": {},
     "output_type": "execute_result"
    },
    {
     "data": {
      "image/png": "[encoded data removed]",
      "text/plain": [
       "<Figure size 400x350 with 1 Axes>"
      ]
     },
     "metadata": {},
     "output_type": "display_data"
    }
   ],
   "source": [
    "fig, axes = plt.subplots(1, 1, figsize=(4, 3.5))\n",
    "lims = (-20, 200)\n",
    "axes.scatter(pred['coef'], obs, s=5, c='black', lw=0, alpha=0.5)\n",
    "axes.plot(lims, lims, lw=0.75, linestyle='--', alpha=0.5)\n",
    "axes.grid(alpha=0.2)\n",
    "axes.text(0.05, 0.98, '$R^2$=' + '{:.2f}\\nCalibration = {:.2f}'.format(r2, calibration),\n",
    "          transform=axes.transAxes, ha='left', va='top')\n",
    "axes.set(xlabel='Predicted PSI (%)', xlim=lims, \n",
    "         ylabel='Measured PSI (%)', ylim=lims, aspect='equal')"
   ]
  },
  {
   "cell_type": "markdown",
   "id": "b8aa988d",
   "metadata": {},
   "source": [
    "This scatterplots shows the relatively good performance of this model in predicting the phenotype of held-out sequences in terms of $R^2$. Importantly, the model provides well calibratred uncertaintoes, since the posterior distribution includes the actual measurement the expected number of times, providing an estimate of how confident we can be about predictions for specific sequences with unknown phenotypes for making decisions"
   ]
  },
  {
   "cell_type": "markdown",
   "id": "78225021",
   "metadata": {},
   "source": [
    "### Compare different models\n",
    "\n",
    "When analyzing a new dataset, we often want to fit different models and compare the performance. This is easy to do by just providing a different kernel to the `EpiK` model. Here, we fit models with kernels of increasing complexity and compute the $R^2$ of the predictions in held out data to track model performance"
   ]
  },
  {
   "cell_type": "code",
   "execution_count": null,
   "id": "be816a11",
   "metadata": {},
   "outputs": [
    {
     "name": "stderr",
     "output_type": "stream",
     "text": [
      "Optimizing hyperparameters: 100%|██████████| 100/100 [00:09<00:00, 10.74it/s, loss=4.039]\n",
      "Optimizing hyperparameters:  35%|███▌      | 35/100 [00:03<00:05, 11.15it/s, loss=3.956]"
     ]
    }
   ],
   "source": [
    "kernels = [ExponentialKernel, ConnectednessKernel, JengaKernel]\n",
    "labels = ['Exponential', 'Connectedness', 'Jenga']\n",
    "r2s = []\n",
    "for label, kernel_type in zip(labels, kernels):\n",
    "    kernel = kernel_type(n_alleles=4, seq_length=8)\n",
    "    model = EpiK(kernel, track_progress=True, learning_rate=0.2)\n",
    "    model.set_data(train_x, train_y, train_y_var)\n",
    "    model.fit(n_iter=100)\n",
    "    test_y_pred = model.predict(test_x, calc_variance=False)['coef']\n",
    "    r2s.append(pearsonr(test_y_pred, test_y)[0] ** 2)\n",
    "results = pd.DataFrame({'kernel': labels, 'r2': r2s})\n",
    "results"
   ]
  },
  {
   "cell_type": "markdown",
   "id": "0b65fc14",
   "metadata": {},
   "source": [
    "Thus, this analysis shows that mutations at different sites affect the predictability of other mutations in a different manner, given the improved performance of the `ConnectednessKernel` over the `ExponentialKernel`. However, the `JengaKernel` provides even better predictive power, suggesting that the decay in predictability of mutational effects also depends on the specific alleles that are mutated at each site.\n",
    "\n",
    "### Interpreting Jenga model parameters\n",
    "\n",
    "Once we have settled with the Jenga model, we aim use the inferred hyperparameters of the kernel function to gain some insigths about the sequence-function relationship we are studying. We can extract the allele and site specific decay rates with the `get_decay_rates` method as follows"
   ]
  },
  {
   "cell_type": "code",
   "execution_count": null,
   "id": "45721d81",
   "metadata": {},
   "outputs": [
    {
     "ename": "AttributeError",
     "evalue": "'JengaKernel' object has no attribute 'get_decay_rates'",
     "output_type": "error",
     "traceback": [
      "\u001b[0;31m---------------------------------------------------------------------------\u001b[0m",
      "\u001b[0;31mAttributeError\u001b[0m                            Traceback (most recent call last)",
      "Cell \u001b[0;32mIn[21], line 3\u001b[0m\n\u001b[1;32m      1\u001b[0m alleles \u001b[38;5;241m=\u001b[39m [\u001b[38;5;124m'\u001b[39m\u001b[38;5;124mA\u001b[39m\u001b[38;5;124m'\u001b[39m, \u001b[38;5;124m'\u001b[39m\u001b[38;5;124mC\u001b[39m\u001b[38;5;124m'\u001b[39m, \u001b[38;5;124m'\u001b[39m\u001b[38;5;124mG\u001b[39m\u001b[38;5;124m'\u001b[39m, \u001b[38;5;124m'\u001b[39m\u001b[38;5;124mU\u001b[39m\u001b[38;5;124m'\u001b[39m]\n\u001b[1;32m      2\u001b[0m positions \u001b[38;5;241m=\u001b[39m [\u001b[38;5;124m'\u001b[39m\u001b[38;5;124m-3\u001b[39m\u001b[38;5;124m'\u001b[39m, \u001b[38;5;124m'\u001b[39m\u001b[38;5;124m-2\u001b[39m\u001b[38;5;124m'\u001b[39m, \u001b[38;5;124m'\u001b[39m\u001b[38;5;124m-1\u001b[39m\u001b[38;5;124m'\u001b[39m, \u001b[38;5;124m'\u001b[39m\u001b[38;5;124m+2\u001b[39m\u001b[38;5;124m'\u001b[39m, \u001b[38;5;124m'\u001b[39m\u001b[38;5;124m+3\u001b[39m\u001b[38;5;124m'\u001b[39m, \u001b[38;5;124m'\u001b[39m\u001b[38;5;124m+4\u001b[39m\u001b[38;5;124m'\u001b[39m, \u001b[38;5;124m'\u001b[39m\u001b[38;5;124m+5\u001b[39m\u001b[38;5;124m'\u001b[39m, \u001b[38;5;124m'\u001b[39m\u001b[38;5;124m+6\u001b[39m\u001b[38;5;124m'\u001b[39m]\n\u001b[0;32m----> 3\u001b[0m decay_rates \u001b[38;5;241m=\u001b[39m \u001b[43mkernel\u001b[49m\u001b[38;5;241;43m.\u001b[39;49m\u001b[43mget_decay_rates\u001b[49m(alleles\u001b[38;5;241m=\u001b[39malleles, positions\u001b[38;5;241m=\u001b[39mpositions)\n\u001b[1;32m      4\u001b[0m decay_rates\u001b[38;5;241m.\u001b[39mloc[\u001b[38;5;124m'\u001b[39m\u001b[38;5;124m+2\u001b[39m\u001b[38;5;124m'\u001b[39m, [\u001b[38;5;124m'\u001b[39m\u001b[38;5;124mA\u001b[39m\u001b[38;5;124m'\u001b[39m, \u001b[38;5;124m'\u001b[39m\u001b[38;5;124mG\u001b[39m\u001b[38;5;124m'\u001b[39m]] \u001b[38;5;241m=\u001b[39m np\u001b[38;5;241m.\u001b[39mnan\n\u001b[1;32m      5\u001b[0m decay_rates\n",
      "File \u001b[0;32m~/miniconda3/envs/epik/lib/python3.8/site-packages/torch/nn/modules/module.py:1614\u001b[0m, in \u001b[0;36mModule.__getattr__\u001b[0;34m(self, name)\u001b[0m\n\u001b[1;32m   1612\u001b[0m     \u001b[38;5;28;01mif\u001b[39;00m name \u001b[38;5;129;01min\u001b[39;00m modules:\n\u001b[1;32m   1613\u001b[0m         \u001b[38;5;28;01mreturn\u001b[39;00m modules[name]\n\u001b[0;32m-> 1614\u001b[0m \u001b[38;5;28;01mraise\u001b[39;00m \u001b[38;5;167;01mAttributeError\u001b[39;00m(\u001b[38;5;124m\"\u001b[39m\u001b[38;5;124m'\u001b[39m\u001b[38;5;132;01m{}\u001b[39;00m\u001b[38;5;124m'\u001b[39m\u001b[38;5;124m object has no attribute \u001b[39m\u001b[38;5;124m'\u001b[39m\u001b[38;5;132;01m{}\u001b[39;00m\u001b[38;5;124m'\u001b[39m\u001b[38;5;124m\"\u001b[39m\u001b[38;5;241m.\u001b[39mformat(\n\u001b[1;32m   1615\u001b[0m     \u001b[38;5;28mtype\u001b[39m(\u001b[38;5;28mself\u001b[39m)\u001b[38;5;241m.\u001b[39m\u001b[38;5;18m__name__\u001b[39m, name))\n",
      "\u001b[0;31mAttributeError\u001b[0m: 'JengaKernel' object has no attribute 'get_decay_rates'"
     ]
    }
   ],
   "source": [
    "alleles = ['A', 'C', 'G', 'U']\n",
    "positions = ['-3', '-2', '-1', '+2', '+3', '+4', '+5', '+6']\n",
    "delta = kernel.get_delta().detach().numpy()\n",
    "delta = pd.DataFrame(delta, index=positions, columns=alleles)\n",
    "delta.loc['+2', ['A', 'G']] = np.nan\n",
    "delta"
   ]
  },
  {
   "cell_type": "markdown",
   "id": "6941a926",
   "metadata": {},
   "source": [
    "We can visualize these values in a heatmap"
   ]
  },
  {
   "cell_type": "code",
   "execution_count": null,
   "id": "422ee2f4",
   "metadata": {},
   "outputs": [
    {
     "data": {
      "image/png": "[encoded data removed]",
      "text/plain": [
       "<Figure size 450x200 with 2 Axes>"
      ]
     },
     "metadata": {},
     "output_type": "display_data"
    }
   ],
   "source": [
    "fig, axes = plt.subplots(1, 1, figsize=(4.5, 2.))\n",
    "axes.set_facecolor('lightgrey')\n",
    "sns.heatmap(decay_rates.T * 100, cmap='Blues', ax=axes,\n",
    "            cbar_kws={'label': 'Decay rate (%)'},\n",
    "            vmin=0, vmax=100)\n",
    "axes.set(xlabel='5´ splice site position', \n",
    "         ylabel='Allele')\n",
    "axes.set_yticklabels(alleles, rotation=0)\n",
    "sns.despine(left=False, bottom=False, top=False, right=False)"
   ]
  },
  {
   "cell_type": "markdown",
   "id": "f7a19307",
   "metadata": {},
   "source": [
    "The decay rate of a mutation is the expected relative decrease in the predictability of other mutations when present, and are accumulated as discount coupons. In the Jenga model, a mutation decreases the predictability of other mutations by accumulating the decay rates associated to the alleles that are exchanged. Next, we show examples of mutations, even at the same position, that have very different effects on the predictability of other mutations under this prior. "
   ]
  },
  {
   "cell_type": "code",
   "execution_count": null,
   "id": "5537c593",
   "metadata": {},
   "outputs": [
    {
     "name": "stdout",
     "output_type": "stream",
     "text": [
      "For instance, a G-1U mutation is expected to decrease the predictability of other mutations by 80.99%\n"
     ]
    }
   ],
   "source": [
    "d = (1 - (1 - decay_rates.loc['-1', 'G']) * (1 - decay_rates.loc['-1', 'U'])) * 100\n",
    "print('For instance, a G-1U mutation is expected to decrease the predictability of other mutations by {:.2f}%'.format(d))"
   ]
  },
  {
   "cell_type": "code",
   "execution_count": null,
   "id": "9253948b",
   "metadata": {},
   "outputs": [
    {
     "name": "stdout",
     "output_type": "stream",
     "text": [
      "In contrast, a mutation at the same position, A-1C, is expected to decrease the predictability of other mutations by only 24.40%\n"
     ]
    }
   ],
   "source": [
    "d = (1 - (1 - decay_rates.loc['-1', 'A']) * (1 - decay_rates.loc['-1', 'C'])) * 100\n",
    "print('In contrast, a mutation at the same position, A-1C, is expected to decrease the predictability of other mutations by only {:.2f}%'.format(d))"
   ]
  },
  {
   "cell_type": "markdown",
   "id": "176ae219",
   "metadata": {},
   "source": [
    "In general, we see that the positions close to the exon-intron boundary, which are known to be more relevant for the recognition of the 5´splice site during the splicing reaction, have stronger decay factors. But we also see that, within each position, alleles with weak decay factors are more likely to be generally exchangeable without affecting the effects of other mutations. "
   ]
  }
 ],
 "metadata": {
  "kernelspec": {
   "display_name": "Python 3",
   "language": "python",
   "name": "python3"
  },
  "language_info": {
   "codemirror_mode": {
    "name": "ipython",
    "version": 3
   },
   "file_extension": ".py",
   "mimetype": "text/x-python",
   "name": "python",
   "nbconvert_exporter": "python",
   "pygments_lexer": "ipython3",
   "version": "3.8.0"
  }
 },
 "nbformat": 4,
 "nbformat_minor": 5
}
