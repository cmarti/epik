{
 "cells": [
  {
   "cell_type": "markdown",
   "id": "5909eeca",
   "metadata": {},
   "source": [
    "### Import required libraries and functions"
   ]
  },
  {
   "cell_type": "code",
   "execution_count": 1,
   "id": "58f88b18",
   "metadata": {},
   "outputs": [
    {
     "name": "stdout",
     "output_type": "stream",
     "text": [
      "[KeOps] Warning : cuda was detected, but driver API could not be initialized. Switching to cpu only.\n"
     ]
    }
   ],
   "source": [
    "import numpy as np\n",
    "import pandas as pd\n",
    "import torch\n",
    "import matplotlib.pyplot as plt\n",
    "\n",
    "from scipy.stats import pearsonr\n",
    "from epik.src.utils import encode_seqs, split_training_test\n",
    "from epik.src.model import EpiK\n",
    "from epik.src.kernel import ConnectednessKernel, ExponentialKernel, JengaKernel"
   ]
  },
  {
   "cell_type": "markdown",
   "id": "bf128f9e",
   "metadata": {},
   "source": [
    "In this tutorial, we will illustrate how to infer sequence-function relationships with our biologically interpretable Gaussian Process models, and guide the user in interpreting the results. \n",
    "\n",
    "With this aim, we will use a previously published dataset, in which the activity of nearly every possible GU/GC 5´splice site sequence was measured in parallel in a single experiment ([Wong et al. 2018](https://pubmed.ncbi.nlm.nih.gov/30174293/)). The measured phenotype `y` is the percent spliced in, this is, the percentage of times a exon 7 is included in the mature mRNA. The assay was performed in different biological replicates, providing a measure of uncertainty of our estimates given by `y_var` as previously analyzed ([Zhou et al. 2022](https://pubmed.ncbi.nlm.nih.gov/36129941/))\n",
    "\n",
    "### Load SMN1 data\n",
    "\n",
    "We start by loading the data from the pre-processed csv file"
   ]
  },
  {
   "cell_type": "code",
   "execution_count": 2,
   "id": "6a86484d",
   "metadata": {},
   "outputs": [
    {
     "data": {
      "text/html": [
       "<div>\n",
       "<style scoped>\n",
       "    .dataframe tbody tr th:only-of-type {\n",
       "        vertical-align: middle;\n",
       "    }\n",
       "\n",
       "    .dataframe tbody tr th {\n",
       "        vertical-align: top;\n",
       "    }\n",
       "\n",
       "    .dataframe thead th {\n",
       "        text-align: right;\n",
       "    }\n",
       "</style>\n",
       "<table border=\"1\" class=\"dataframe\">\n",
       "  <thead>\n",
       "    <tr style=\"text-align: right;\">\n",
       "      <th></th>\n",
       "      <th>y</th>\n",
       "      <th>y_var</th>\n",
       "    </tr>\n",
       "    <tr>\n",
       "      <th>seq</th>\n",
       "      <th></th>\n",
       "      <th></th>\n",
       "    </tr>\n",
       "  </thead>\n",
       "  <tbody>\n",
       "    <tr>\n",
       "      <th>AAACAAAA</th>\n",
       "      <td>0.223881</td>\n",
       "      <td>0.001738</td>\n",
       "    </tr>\n",
       "    <tr>\n",
       "      <th>AAACAAAC</th>\n",
       "      <td>0.514961</td>\n",
       "      <td>0.009195</td>\n",
       "    </tr>\n",
       "    <tr>\n",
       "      <th>AAACAAAG</th>\n",
       "      <td>0.208009</td>\n",
       "      <td>0.001500</td>\n",
       "    </tr>\n",
       "    <tr>\n",
       "      <th>AAACAAAU</th>\n",
       "      <td>0.235378</td>\n",
       "      <td>0.002109</td>\n",
       "    </tr>\n",
       "    <tr>\n",
       "      <th>AAACAACA</th>\n",
       "      <td>0.357162</td>\n",
       "      <td>0.004423</td>\n",
       "    </tr>\n",
       "    <tr>\n",
       "      <th>...</th>\n",
       "      <td>...</td>\n",
       "      <td>...</td>\n",
       "    </tr>\n",
       "    <tr>\n",
       "      <th>UUUUUUGU</th>\n",
       "      <td>0.199017</td>\n",
       "      <td>0.001373</td>\n",
       "    </tr>\n",
       "    <tr>\n",
       "      <th>UUUUUUUA</th>\n",
       "      <td>0.074571</td>\n",
       "      <td>0.000536</td>\n",
       "    </tr>\n",
       "    <tr>\n",
       "      <th>UUUUUUUC</th>\n",
       "      <td>0.193181</td>\n",
       "      <td>0.001294</td>\n",
       "    </tr>\n",
       "    <tr>\n",
       "      <th>UUUUUUUG</th>\n",
       "      <td>0.121894</td>\n",
       "      <td>0.000536</td>\n",
       "    </tr>\n",
       "    <tr>\n",
       "      <th>UUUUUUUU</th>\n",
       "      <td>0.152185</td>\n",
       "      <td>0.000803</td>\n",
       "    </tr>\n",
       "  </tbody>\n",
       "</table>\n",
       "<p>30732 rows × 2 columns</p>\n",
       "</div>"
      ],
      "text/plain": [
       "                 y     y_var\n",
       "seq                         \n",
       "AAACAAAA  0.223881  0.001738\n",
       "AAACAAAC  0.514961  0.009195\n",
       "AAACAAAG  0.208009  0.001500\n",
       "AAACAAAU  0.235378  0.002109\n",
       "AAACAACA  0.357162  0.004423\n",
       "...            ...       ...\n",
       "UUUUUUGU  0.199017  0.001373\n",
       "UUUUUUUA  0.074571  0.000536\n",
       "UUUUUUUC  0.193181  0.001294\n",
       "UUUUUUUG  0.121894  0.000536\n",
       "UUUUUUUU  0.152185  0.000803\n",
       "\n",
       "[30732 rows x 2 columns]"
      ]
     },
     "execution_count": 2,
     "metadata": {},
     "output_type": "execute_result"
    }
   ],
   "source": [
    "data = pd.read_csv('../data/smn1.csv', index_col=0)\n",
    "data"
   ]
  },
  {
   "cell_type": "markdown",
   "id": "a23b05c9",
   "metadata": {},
   "source": [
    "### Prepare data for model fitting\n",
    "\n",
    "EpiK models assume that sequences are provided in a one-hot encoding `X` and provide the utility function `encode_seqs` to obtain them from the raw sequences"
   ]
  },
  {
   "cell_type": "code",
   "execution_count": 3,
   "id": "0e1ae656",
   "metadata": {},
   "outputs": [],
   "source": [
    "X = encode_seqs(data.index.values, alphabet='ACGU')\n",
    "y = data['y'].values\n",
    "y_var = data['y_var'].values"
   ]
  },
  {
   "cell_type": "markdown",
   "id": "dc8f2ae5",
   "metadata": {},
   "source": [
    "We next split the data into training and test subsets with `split_training_test`. To keep this tutorial as simple and fast to run as possible, we will use only a small subset of the dataset for both training and testing, but the code to run it with larger datasets will be exactly the same. "
   ]
  },
  {
   "cell_type": "code",
   "execution_count": 4,
   "id": "6c25c176",
   "metadata": {},
   "outputs": [],
   "source": [
    "splits = split_training_test(X, y, y_var, ptrain=0.05, dtype=torch.float32)\n",
    "train_x, train_y, test_x, test_y, train_y_var = splits\n",
    "\n",
    "# Subsample test data\n",
    "idx = np.random.uniform(size=test_y.shape[0]) < 0.05\n",
    "test_x, test_y = test_x[idx, :], test_y[idx]"
   ]
  },
  {
   "cell_type": "markdown",
   "id": "83dbed32",
   "metadata": {},
   "source": [
    "### Fit Connectedness model regression\n",
    "\n",
    "To define an `EpiK` model, we first need to specify the kernel function that we want to use for Gaussian process regression. In this case, we will use the `ConnectednessKernel`, in which the predictability of mutational effects decreases as we add mutations depending on site-specific decay factors. As the number of parameters is equal to sequence lenght, this kernel provides a good compromise in datasets with relatively few measurements as this one. For every kernel class, we need to specify the configuration of sequence space, consisting of the number of alleles and sequence length. "
   ]
  },
  {
   "cell_type": "code",
   "execution_count": 5,
   "id": "070f6a1c",
   "metadata": {},
   "outputs": [],
   "source": [
    "kernel = ConnectednessKernel(n_alleles=4, seq_length=8)\n",
    "model = EpiK(kernel, track_progress=True, learning_rate=0.05)\n",
    "model.set_data(train_x, train_y, train_y_var)"
   ]
  },
  {
   "cell_type": "markdown",
   "id": "7b9f96ad",
   "metadata": {},
   "source": [
    "After defining the `EpiK` model, we load the training data in the model and optimize the kernel hyperparameters by maximizing the marginal likelihood using the Adam optimizer for a number of predefined iterations. The argument `track_progress=True` allows us to follow the progress of the optimization and track how the loss function decreases"
   ]
  },
  {
   "cell_type": "code",
   "execution_count": 6,
   "id": "3c4d89c9",
   "metadata": {},
   "outputs": [
    {
     "name": "stderr",
     "output_type": "stream",
     "text": [
      "Optimizing hyperparameters: 100%|██████████| 100/100 [00:39<00:00,  2.54it/s, loss=3.947]\n"
     ]
    }
   ],
   "source": [
    "model.fit(n_iter=100)"
   ]
  },
  {
   "cell_type": "markdown",
   "id": "5a5b5ee7",
   "metadata": {},
   "source": [
    "### Make predictions on test sequences\n",
    "\n",
    "Once we have optimized the hyperparameters of the kernel function, we can make predictions by computing the posterior distribution over the sequence-function relationship evaluated at sequences of interest. This allows us to obtain point estimates `test_y_pred` that maximize this posterior probability, but we can additionally compute the posterior variance `test_y_var` quantifying the uncertainty of the predictions. \n",
    "\n",
    "Lets now make predictions in the test sequences that the model has not seen. "
   ]
  },
  {
   "cell_type": "code",
   "execution_count": 7,
   "id": "2771e770",
   "metadata": {},
   "outputs": [],
   "source": [
    "test_y_pred, test_y_var = model.predict(test_x, calc_variance=True)"
   ]
  },
  {
   "cell_type": "markdown",
   "id": "83f8a8a9",
   "metadata": {},
   "source": [
    "Once we have the predictions, we can compare them with the measurements for these held-out sequences, for instance, by computing the $R^2$ or the calibration of the uncertainty by calculating the percentage of times the measurement is within the 95% predictive interval"
   ]
  },
  {
   "cell_type": "code",
   "execution_count": 8,
   "id": "ef545c87",
   "metadata": {},
   "outputs": [],
   "source": [
    "r2 = pearsonr(test_y_pred, test_y)[0] ** 2\n",
    "sd = np.sqrt(test_y_var.numpy())\n",
    "calibration = ((test_y > test_y_pred - 2 * sd) & (test_y < test_y_pred + 2 * sd)).numpy().mean()"
   ]
  },
  {
   "cell_type": "code",
   "execution_count": 9,
   "id": "3189342f",
   "metadata": {},
   "outputs": [
    {
     "data": {
      "text/plain": [
       "[Text(0.5, 0, 'Predicted PSI (%)'),\n",
       " (-20.0, 200.0),\n",
       " Text(0, 0.5, 'Measured PSI (%)'),\n",
       " (-20.0, 200.0),\n",
       " None]"
      ]
     },
     "execution_count": 9,
     "metadata": {},
     "output_type": "execute_result"
    },
    {
     "data": {
      "image/png": "[encoded data removed]",
      "text/plain": [
       "<Figure size 400x350 with 1 Axes>"
      ]
     },
     "metadata": {},
     "output_type": "display_data"
    }
   ],
   "source": [
    "fig, axes = plt.subplots(1, 1, figsize=(4, 3.5))\n",
    "lims = (-20, 200)\n",
    "axes.scatter(test_y_pred, test_y, s=5, c='black', lw=0, alpha=0.5)\n",
    "axes.plot(lims, lims, lw=0.75, linestyle='--', alpha=0.5)\n",
    "axes.grid(alpha=0.2)\n",
    "axes.text(0.05, 0.98, '$R^2$=' + '{:.2f}\\nCalibration = {:.2f}'.format(r2, calibration),\n",
    "          transform=axes.transAxes, ha='left', va='top')\n",
    "axes.set(xlabel='Predicted PSI (%)', xlim=lims, \n",
    "         ylabel='Measured PSI (%)', ylim=lims, aspect='equal')"
   ]
  },
  {
   "cell_type": "markdown",
   "id": "b8aa988d",
   "metadata": {},
   "source": [
    "This scatterplots shows the relatively good performance of this model in predicting the phenotype of held-out sequences, as shown by an $R^2$=0.55. Importantly, the model provides well calibratred uncertaintoes, since the posterior distribution includes the actual measurement the expected number of times, providing an estimate of how confident we can be about predictions for specific sequences with unknown phenotypes for making decisions"
   ]
  },
  {
   "cell_type": "markdown",
   "id": "78225021",
   "metadata": {},
   "source": [
    "### Compare different models\n",
    "\n",
    "When analyzing a new dataset, we often want to fit different models and compare the performance. This is easy to do by just providing a different kernel to the `EpiK` model. Here, we fit models with kernels of increasing complexity and compute the $R^2$ of the predictions in held out data to track model performance"
   ]
  },
  {
   "cell_type": "code",
   "execution_count": 14,
   "id": "be816a11",
   "metadata": {},
   "outputs": [
    {
     "name": "stderr",
     "output_type": "stream",
     "text": [
      "Optimizing hyperparameters: 100%|██████████| 100/100 [00:38<00:00,  2.62it/s, loss=4.031]\n",
      "Optimizing hyperparameters: 100%|██████████| 100/100 [00:39<00:00,  2.52it/s, loss=3.938]\n",
      "Optimizing hyperparameters: 100%|██████████| 100/100 [00:50<00:00,  2.00it/s, loss=3.675]\n"
     ]
    },
    {
     "data": {
      "text/html": [
       "<div>\n",
       "<style scoped>\n",
       "    .dataframe tbody tr th:only-of-type {\n",
       "        vertical-align: middle;\n",
       "    }\n",
       "\n",
       "    .dataframe tbody tr th {\n",
       "        vertical-align: top;\n",
       "    }\n",
       "\n",
       "    .dataframe thead th {\n",
       "        text-align: right;\n",
       "    }\n",
       "</style>\n",
       "<table border=\"1\" class=\"dataframe\">\n",
       "  <thead>\n",
       "    <tr style=\"text-align: right;\">\n",
       "      <th></th>\n",
       "      <th>kernel</th>\n",
       "      <th>r2</th>\n",
       "    </tr>\n",
       "  </thead>\n",
       "  <tbody>\n",
       "    <tr>\n",
       "      <th>0</th>\n",
       "      <td>Exponential</td>\n",
       "      <td>0.508648</td>\n",
       "    </tr>\n",
       "    <tr>\n",
       "      <th>1</th>\n",
       "      <td>Connectedness</td>\n",
       "      <td>0.551820</td>\n",
       "    </tr>\n",
       "    <tr>\n",
       "      <th>2</th>\n",
       "      <td>Jenga</td>\n",
       "      <td>0.602860</td>\n",
       "    </tr>\n",
       "  </tbody>\n",
       "</table>\n",
       "</div>"
      ],
      "text/plain": [
       "          kernel        r2\n",
       "0    Exponential  0.508648\n",
       "1  Connectedness  0.551820\n",
       "2          Jenga  0.602860"
      ]
     },
     "execution_count": 14,
     "metadata": {},
     "output_type": "execute_result"
    }
   ],
   "source": [
    "kernels = [ExponentialKernel, ConnectednessKernel, JengaKernel]\n",
    "labels = ['Exponential', 'Connectedness', 'Jenga']\n",
    "r2s = []\n",
    "for label, kernel_type in zip(labels, kernels):\n",
    "    kernel = kernel_type(n_alleles=4, seq_length=8)\n",
    "    model = EpiK(kernel, track_progress=True, learning_rate=0.05)\n",
    "    model.set_data(train_x, train_y, train_y_var)\n",
    "    model.fit(n_iter=100)\n",
    "    test_y_pred = model.predict(test_x, calc_variance=False)\n",
    "    r2s.append(pearsonr(test_y_pred, test_y)[0] ** 2)\n",
    "results = pd.DataFrame({'kernel': labels, 'r2': r2s})\n",
    "results"
   ]
  },
  {
   "cell_type": "markdown",
   "id": "0b65fc14",
   "metadata": {},
   "source": [
    "Thus, this analysis shows that the Jenga model provides even better predictive performance than the Connectedness model by allowing the decay in predictability of mutational effects to depends on which specific alleles are mutated at each site"
   ]
  }
 ],
 "metadata": {
  "kernelspec": {
   "display_name": "Python 3",
   "language": "python",
   "name": "python3"
  },
  "language_info": {
   "codemirror_mode": {
    "name": "ipython",
    "version": 3
   },
   "file_extension": ".py",
   "mimetype": "text/x-python",
   "name": "python",
   "nbconvert_exporter": "python",
   "pygments_lexer": "ipython3",
   "version": "3.8.0"
  }
 },
 "nbformat": 4,
 "nbformat_minor": 5
}
